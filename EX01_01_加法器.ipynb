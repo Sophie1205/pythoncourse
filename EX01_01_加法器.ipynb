{
  "nbformat": 4,
  "nbformat_minor": 0,
  "metadata": {
    "colab": {
      "provenance": [],
      "authorship_tag": "ABX9TyNX/znydNe6HMTkrumkHYRo",
      "include_colab_link": true
    },
    "kernelspec": {
      "name": "python3",
      "display_name": "Python 3"
    },
    "language_info": {
      "name": "python"
    }
  },
  "cells": [
    {
      "cell_type": "markdown",
      "metadata": {
        "id": "view-in-github",
        "colab_type": "text"
      },
      "source": [
        "<a href=\"https://colab.research.google.com/github/Sophie1205/pythoncourse/blob/main/EX01_01_%E5%8A%A0%E6%B3%95%E5%99%A8.ipynb\" target=\"_parent\"><img src=\"https://colab.research.google.com/assets/colab-badge.svg\" alt=\"Open In Colab\"/></a>"
      ]
    },
    {
      "cell_type": "code",
      "execution_count": null,
      "metadata": {
        "colab": {
          "base_uri": "https://localhost:8080/"
        },
        "id": "-mUaIGxW22HG",
        "outputId": "441ba21a-8fb9-4d0d-a3d0-4f1b1c081ec0"
      },
      "outputs": [
        {
          "output_type": "stream",
          "name": "stdout",
          "text": [
            "enter the first number: 5\n",
            "enter the second number: 10\n",
            "5 + 10 = 15\n"
          ]
        }
      ],
      "source": [
        "n1 = int(input(\"enter the first number: \"))\n",
        "n2 = int(input(\"enter the second number: \"))\n",
        "n3 = n1+n2\n",
        "print(n1 ,\"+\", n2 ,\"=\", n3)"
      ]
    }
  ]
}