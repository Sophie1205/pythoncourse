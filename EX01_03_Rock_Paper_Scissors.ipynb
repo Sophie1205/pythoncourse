{
  "nbformat": 4,
  "nbformat_minor": 0,
  "metadata": {
    "colab": {
      "provenance": [],
      "authorship_tag": "ABX9TyMcxpltlM/KjXCqTiPVQeKa",
      "include_colab_link": true
    },
    "kernelspec": {
      "name": "python3",
      "display_name": "Python 3"
    },
    "language_info": {
      "name": "python"
    }
  },
  "cells": [
    {
      "cell_type": "markdown",
      "metadata": {
        "id": "view-in-github",
        "colab_type": "text"
      },
      "source": [
        "<a href=\"https://colab.research.google.com/github/Sophie1205/pythoncourse/blob/main/EX01_03_Rock_Paper_Scissors.ipynb\" target=\"_parent\"><img src=\"https://colab.research.google.com/assets/colab-badge.svg\" alt=\"Open In Colab\"/></a>"
      ]
    },
    {
      "cell_type": "code",
      "execution_count": 2,
      "metadata": {
        "colab": {
          "base_uri": "https://localhost:8080/"
        },
        "id": "xy1zi5WzRobg",
        "outputId": "91a0650f-bc81-4a0a-8645-a1325fcc9f2c"
      },
      "outputs": [
        {
          "output_type": "stream",
          "name": "stdout",
          "text": [
            "enter 0, 2, or 5: 5\n",
            "0 computer: \n",
            "you win\n"
          ]
        }
      ],
      "source": [
        "import random\n",
        "ply = int(input('enter 0, 2, or 5: '))\n",
        "cmp = random.choice([0,2,5])\n",
        "print(cmp, \"computer: \")\n",
        "if ply == cmp:\n",
        "    print(\"draw\")\n",
        "elif (ply == 0 and cmp==2) or (ply == 2 and cmp == 5) or (ply == 5 and cmp == 0):\n",
        "    print(\"you win\")\n",
        "else:\n",
        "    print(\"you lose\")"
      ]
    }
  ]
}