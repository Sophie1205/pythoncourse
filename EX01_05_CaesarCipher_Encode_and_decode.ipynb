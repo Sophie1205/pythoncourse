{
  "nbformat": 4,
  "nbformat_minor": 0,
  "metadata": {
    "colab": {
      "provenance": [],
      "authorship_tag": "ABX9TyPGPjPAUg3xF9VugrrN8EgY",
      "include_colab_link": true
    },
    "kernelspec": {
      "name": "python3",
      "display_name": "Python 3"
    },
    "language_info": {
      "name": "python"
    }
  },
  "cells": [
    {
      "cell_type": "markdown",
      "metadata": {
        "id": "view-in-github",
        "colab_type": "text"
      },
      "source": [
        "<a href=\"https://colab.research.google.com/github/Sophie1205/pythoncourse/blob/main/EX01_05_CaesarCipher_Encode_and_decode.ipynb\" target=\"_parent\"><img src=\"https://colab.research.google.com/assets/colab-badge.svg\" alt=\"Open In Colab\"/></a>"
      ]
    },
    {
      "cell_type": "code",
      "execution_count": 7,
      "metadata": {
        "colab": {
          "base_uri": "https://localhost:8080/"
        },
        "id": "y2kKPukU8Szh",
        "outputId": "60bcefa7-767b-4fd3-95ef-c307d4c798e5"
      },
      "outputs": [
        {
          "output_type": "stream",
          "name": "stdout",
          "text": [
            "enter key: e5\n",
            "enter text: happy birthday\n",
            "mfuu~%gnwymif~\n"
          ]
        }
      ],
      "source": [
        "act = input(\"enter key: \")\n",
        "txt = input(\"enter text: \")\n",
        "\n",
        "act_type = act[0]\n",
        "key = int(act[1:])\n",
        "ntxt = ''\n",
        "\n",
        "if act_type == \"d\":\n",
        "    for c in txt:\n",
        "        nc = ord(c) - key\n",
        "        ntxt = ntxt + chr(nc)\n",
        "elif act_type == \"e\":\n",
        "    for c in txt:\n",
        "        nc = ord(c) + key\n",
        "        ntxt = ntxt + chr(nc)\n",
        "print(ntxt)"
      ]
    }
  ]
}