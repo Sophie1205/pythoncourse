{
  "nbformat": 4,
  "nbformat_minor": 0,
  "metadata": {
    "colab": {
      "provenance": [],
      "authorship_tag": "ABX9TyNqTtAE+dMvsu18xf7uC88v",
      "include_colab_link": true
    },
    "kernelspec": {
      "name": "python3",
      "display_name": "Python 3"
    },
    "language_info": {
      "name": "python"
    }
  },
  "cells": [
    {
      "cell_type": "markdown",
      "metadata": {
        "id": "view-in-github",
        "colab_type": "text"
      },
      "source": [
        "<a href=\"https://colab.research.google.com/github/Sophie1205/pythoncourse/blob/main/EX02_04_Download_Pokemon_Images.ipynb\" target=\"_parent\"><img src=\"https://colab.research.google.com/assets/colab-badge.svg\" alt=\"Open In Colab\"/></a>"
      ]
    },
    {
      "cell_type": "code",
      "source": [
        "import requests\n",
        "from bs4 import BeautifulSoup\n",
        "\n",
        "for i in range(1,31):\n",
        "    id = f'{i:04}'\n",
        "    url = f'https://tw.portal-pokemon.com/play/pokedex/{id}'\n",
        "    response = requests.get(url)\n",
        "    soup = BeautifulSoup(response.text, \"lxml\")\n",
        "    img_src = soup.find(\"img\", class_ = \"pokemon-img__front\")[\"src\"]\n",
        "    img_url = \"https://tw.portal-pokemon.com\" + img_src\n",
        "    img = requests.get(img_url)\n",
        "    with open(f'./pokemon/{id}.png', 'wb') as f:\n",
        "        f.write(img.content)"
      ],
      "metadata": {
        "id": "K2IWeTfRaQXe"
      },
      "execution_count": 4,
      "outputs": []
    }
  ]
}