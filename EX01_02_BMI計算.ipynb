{
  "nbformat": 4,
  "nbformat_minor": 0,
  "metadata": {
    "colab": {
      "provenance": [],
      "authorship_tag": "ABX9TyOkxzwuuRY31r8Ql5oxjaLf",
      "include_colab_link": true
    },
    "kernelspec": {
      "name": "python3",
      "display_name": "Python 3"
    },
    "language_info": {
      "name": "python"
    }
  },
  "cells": [
    {
      "cell_type": "markdown",
      "metadata": {
        "id": "view-in-github",
        "colab_type": "text"
      },
      "source": [
        "<a href=\"https://colab.research.google.com/github/Sophie1205/pythoncourse/blob/main/EX01_02_BMI%E8%A8%88%E7%AE%97.ipynb\" target=\"_parent\"><img src=\"https://colab.research.google.com/assets/colab-badge.svg\" alt=\"Open In Colab\"/></a>"
      ]
    },
    {
      "cell_type": "code",
      "execution_count": 2,
      "metadata": {
        "colab": {
          "base_uri": "https://localhost:8080/"
        },
        "id": "GLhrskJbK-He",
        "outputId": "41dce72f-44bc-4e48-f00e-0d8112b8f89e"
      },
      "outputs": [
        {
          "output_type": "stream",
          "name": "stdout",
          "text": [
            "enter height(cm): 160\n",
            "enter weight(kg): 55\n",
            "BMI:  21.5\n"
          ]
        }
      ],
      "source": [
        "ht = float(input(\"enter height(cm): \"))\n",
        "wt = float(input(\"enter weight(kg): \"))\n",
        "bmi = wt / (ht/100)**2\n",
        "print(\"BMI: \",round(bmi,1))"
      ]
    }
  ]
}