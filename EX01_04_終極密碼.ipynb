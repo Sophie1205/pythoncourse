{
  "nbformat": 4,
  "nbformat_minor": 0,
  "metadata": {
    "colab": {
      "provenance": [],
      "authorship_tag": "ABX9TyOOSvmbdElazdC0mp9AMNtH",
      "include_colab_link": true
    },
    "kernelspec": {
      "name": "python3",
      "display_name": "Python 3"
    },
    "language_info": {
      "name": "python"
    }
  },
  "cells": [
    {
      "cell_type": "markdown",
      "metadata": {
        "id": "view-in-github",
        "colab_type": "text"
      },
      "source": [
        "<a href=\"https://colab.research.google.com/github/Sophie1205/pythoncourse/blob/main/EX01_04_%E7%B5%82%E6%A5%B5%E5%AF%86%E7%A2%BC.ipynb\" target=\"_parent\"><img src=\"https://colab.research.google.com/assets/colab-badge.svg\" alt=\"Open In Colab\"/></a>"
      ]
    },
    {
      "cell_type": "code",
      "execution_count": 1,
      "metadata": {
        "colab": {
          "base_uri": "https://localhost:8080/"
        },
        "id": "0JOnxBQ9r0uF",
        "outputId": "c9b551da-0403-4c26-cad3-5d103b9a9f45"
      },
      "outputs": [
        {
          "output_type": "stream",
          "name": "stdout",
          "text": [
            "0 - 100\n",
            "guess a number between 1 to 99: 0\n",
            "out of range\n",
            "0 - 100\n",
            "guess a number between 1 to 99: 50\n",
            "50 - 100\n",
            "guess a number between 1 to 99: 75\n",
            "75 - 100\n",
            "guess a number between 1 to 99: 90\n",
            "90 - 100\n",
            "guess a number between 1 to 99: 95\n",
            "correct\n"
          ]
        }
      ],
      "source": [
        "import random\n",
        "bomb = random.randint(1,99)\n",
        "\n",
        "left = 0\n",
        "right = 100\n",
        "\n",
        "while True:\n",
        "    print(left,\"-\",right)\n",
        "    guess = int(input(\"guess a number between 1 to 99: \"))\n",
        "    if guess <= left or guess >= right:\n",
        "        print(\"out of range\")\n",
        "    if guess < bomb:\n",
        "        left = guess\n",
        "    if guess > bomb:\n",
        "        right = guess\n",
        "    if guess == bomb:\n",
        "        print(\"correct\")\n",
        "        break"
      ]
    }
  ]
}